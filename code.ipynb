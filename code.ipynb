print('Hello')
print(''' I see you are here. I'm glad.''')
name = input(' Please enter your beautiful name.').upper()
if name == disha:
  print(' Welcome, you have been authorized.')
  print(''' Your next clue, is this: 'They were all bound, by the silken thread of destiny'. You'll need a brain to understand this.''')
elif name == directiond:
  print(' Welcome, you have been authorized.')
  print(''' Your next clue, is this: 'They were all bound, by the silken thread of destiny'. You'll need a brain to understand this.''')
else:
  print(' You are not authorized. Please enter your name again, if you made any mistakes.')

